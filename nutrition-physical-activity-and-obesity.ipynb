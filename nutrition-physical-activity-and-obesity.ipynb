{
 "cells": [
  {
   "cell_type": "markdown",
   "id": "803a6734",
   "metadata": {
    "papermill": {
     "duration": 0.007281,
     "end_time": "2023-02-15T16:47:40.223659",
     "exception": false,
     "start_time": "2023-02-15T16:47:40.216378",
     "status": "completed"
    },
    "tags": []
   },
   "source": [
    "# Import Libraries"
   ]
  },
  {
   "cell_type": "code",
   "execution_count": 1,
   "id": "8fa85583",
   "metadata": {
    "execution": {
     "iopub.execute_input": "2023-02-15T16:47:40.232876Z",
     "iopub.status.busy": "2023-02-15T16:47:40.232408Z",
     "iopub.status.idle": "2023-02-15T16:47:40.243748Z",
     "shell.execute_reply": "2023-02-15T16:47:40.242523Z"
    },
    "papermill": {
     "duration": 0.019296,
     "end_time": "2023-02-15T16:47:40.246448",
     "exception": false,
     "start_time": "2023-02-15T16:47:40.227152",
     "status": "completed"
    },
    "tags": []
   },
   "outputs": [],
   "source": [
    "import pandas as pd\n",
    "import numpy as np"
   ]
  },
  {
   "cell_type": "markdown",
   "id": "b45f7c69",
   "metadata": {
    "papermill": {
     "duration": 0.003031,
     "end_time": "2023-02-15T16:47:40.252850",
     "exception": false,
     "start_time": "2023-02-15T16:47:40.249819",
     "status": "completed"
    },
    "tags": []
   },
   "source": [
    "# Import dataset\n",
    "\n",
    "This dataset includes data on adult's diet, physical activity, and weight status from Behavioral Risk Factor Surveillance System. This data is used for DNPAO's Data, Trends, and Maps database, which provides national and state specific data on obesity, nutrition, physical activity, and breastfeeding."
   ]
  },
  {
   "cell_type": "code",
   "execution_count": 2,
   "id": "d289941c",
   "metadata": {
    "execution": {
     "iopub.execute_input": "2023-02-15T16:47:40.261240Z",
     "iopub.status.busy": "2023-02-15T16:47:40.260851Z",
     "iopub.status.idle": "2023-02-15T16:47:41.230226Z",
     "shell.execute_reply": "2023-02-15T16:47:41.228871Z"
    },
    "papermill": {
     "duration": 0.976937,
     "end_time": "2023-02-15T16:47:41.233072",
     "exception": false,
     "start_time": "2023-02-15T16:47:40.256135",
     "status": "completed"
    },
    "tags": []
   },
   "outputs": [],
   "source": [
    "dat_nutri= pd.read_csv('/kaggle/input/nutrition-physical-activity-and-obesity/Nutrition__Physical_Activity__and_Obesity.csv')"
   ]
  },
  {
   "cell_type": "markdown",
   "id": "7181f3e9",
   "metadata": {
    "papermill": {
     "duration": 0.003108,
     "end_time": "2023-02-15T16:47:41.239754",
     "exception": false,
     "start_time": "2023-02-15T16:47:41.236646",
     "status": "completed"
    },
    "tags": []
   },
   "source": [
    "# Data Wrangling"
   ]
  },
  {
   "cell_type": "code",
   "execution_count": 3,
   "id": "c286791f",
   "metadata": {
    "execution": {
     "iopub.execute_input": "2023-02-15T16:47:41.248399Z",
     "iopub.status.busy": "2023-02-15T16:47:41.247912Z",
     "iopub.status.idle": "2023-02-15T16:47:41.258088Z",
     "shell.execute_reply": "2023-02-15T16:47:41.256780Z"
    },
    "papermill": {
     "duration": 0.017592,
     "end_time": "2023-02-15T16:47:41.260765",
     "exception": false,
     "start_time": "2023-02-15T16:47:41.243173",
     "status": "completed"
    },
    "tags": []
   },
   "outputs": [
    {
     "data": {
      "text/plain": [
       "Index(['YearStart', 'YearEnd', 'LocationAbbr', 'LocationDesc', 'Datasource',\n",
       "       'Class', 'Topic', 'Question', 'Data_Value_Unit', 'Data_Value_Type',\n",
       "       'Data_Value', 'Data_Value_Alt', 'Data_Value_Footnote_Symbol',\n",
       "       'Data_Value_Footnote', 'Low_Confidence_Limit', 'High_Confidence_Limit ',\n",
       "       'Sample_Size', 'Total', 'Age(years)', 'Education', 'Gender', 'Income',\n",
       "       'Race/Ethnicity', 'GeoLocation', 'ClassID', 'TopicID', 'QuestionID',\n",
       "       'DataValueTypeID', 'LocationID', 'StratificationCategory1',\n",
       "       'Stratification1', 'StratificationCategoryId1', 'StratificationID1'],\n",
       "      dtype='object')"
      ]
     },
     "execution_count": 3,
     "metadata": {},
     "output_type": "execute_result"
    }
   ],
   "source": [
    "dat_nutri.columns"
   ]
  },
  {
   "cell_type": "code",
   "execution_count": 4,
   "id": "3f3d1ffc",
   "metadata": {
    "execution": {
     "iopub.execute_input": "2023-02-15T16:47:41.270048Z",
     "iopub.status.busy": "2023-02-15T16:47:41.269596Z",
     "iopub.status.idle": "2023-02-15T16:47:41.309248Z",
     "shell.execute_reply": "2023-02-15T16:47:41.307882Z"
    },
    "papermill": {
     "duration": 0.047577,
     "end_time": "2023-02-15T16:47:41.312127",
     "exception": false,
     "start_time": "2023-02-15T16:47:41.264550",
     "status": "completed"
    },
    "tags": []
   },
   "outputs": [
    {
     "data": {
      "text/html": [
       "<div>\n",
       "<style scoped>\n",
       "    .dataframe tbody tr th:only-of-type {\n",
       "        vertical-align: middle;\n",
       "    }\n",
       "\n",
       "    .dataframe tbody tr th {\n",
       "        vertical-align: top;\n",
       "    }\n",
       "\n",
       "    .dataframe thead th {\n",
       "        text-align: right;\n",
       "    }\n",
       "</style>\n",
       "<table border=\"1\" class=\"dataframe\">\n",
       "  <thead>\n",
       "    <tr style=\"text-align: right;\">\n",
       "      <th></th>\n",
       "      <th>YearStart</th>\n",
       "      <th>YearEnd</th>\n",
       "      <th>LocationAbbr</th>\n",
       "      <th>LocationDesc</th>\n",
       "      <th>Datasource</th>\n",
       "      <th>Class</th>\n",
       "      <th>Topic</th>\n",
       "      <th>Question</th>\n",
       "      <th>Data_Value_Unit</th>\n",
       "      <th>Data_Value_Type</th>\n",
       "      <th>...</th>\n",
       "      <th>GeoLocation</th>\n",
       "      <th>ClassID</th>\n",
       "      <th>TopicID</th>\n",
       "      <th>QuestionID</th>\n",
       "      <th>DataValueTypeID</th>\n",
       "      <th>LocationID</th>\n",
       "      <th>StratificationCategory1</th>\n",
       "      <th>Stratification1</th>\n",
       "      <th>StratificationCategoryId1</th>\n",
       "      <th>StratificationID1</th>\n",
       "    </tr>\n",
       "  </thead>\n",
       "  <tbody>\n",
       "    <tr>\n",
       "      <th>0</th>\n",
       "      <td>2020</td>\n",
       "      <td>2020</td>\n",
       "      <td>US</td>\n",
       "      <td>National</td>\n",
       "      <td>Behavioral Risk Factor Surveillance System</td>\n",
       "      <td>Physical Activity</td>\n",
       "      <td>Physical Activity - Behavior</td>\n",
       "      <td>Percent of adults who engage in no leisure-tim...</td>\n",
       "      <td>NaN</td>\n",
       "      <td>Value</td>\n",
       "      <td>...</td>\n",
       "      <td>NaN</td>\n",
       "      <td>PA</td>\n",
       "      <td>PA1</td>\n",
       "      <td>Q047</td>\n",
       "      <td>VALUE</td>\n",
       "      <td>59</td>\n",
       "      <td>Race/Ethnicity</td>\n",
       "      <td>Hispanic</td>\n",
       "      <td>RACE</td>\n",
       "      <td>RACEHIS</td>\n",
       "    </tr>\n",
       "    <tr>\n",
       "      <th>1</th>\n",
       "      <td>2014</td>\n",
       "      <td>2014</td>\n",
       "      <td>GU</td>\n",
       "      <td>Guam</td>\n",
       "      <td>Behavioral Risk Factor Surveillance System</td>\n",
       "      <td>Obesity / Weight Status</td>\n",
       "      <td>Obesity / Weight Status</td>\n",
       "      <td>Percent of adults aged 18 years and older who ...</td>\n",
       "      <td>NaN</td>\n",
       "      <td>Value</td>\n",
       "      <td>...</td>\n",
       "      <td>(13.444304, 144.793731)</td>\n",
       "      <td>OWS</td>\n",
       "      <td>OWS1</td>\n",
       "      <td>Q036</td>\n",
       "      <td>VALUE</td>\n",
       "      <td>66</td>\n",
       "      <td>Education</td>\n",
       "      <td>High school graduate</td>\n",
       "      <td>EDU</td>\n",
       "      <td>EDUHSGRAD</td>\n",
       "    </tr>\n",
       "  </tbody>\n",
       "</table>\n",
       "<p>2 rows × 33 columns</p>\n",
       "</div>"
      ],
      "text/plain": [
       "   YearStart  YearEnd LocationAbbr LocationDesc  \\\n",
       "0       2020     2020           US     National   \n",
       "1       2014     2014           GU         Guam   \n",
       "\n",
       "                                   Datasource                    Class  \\\n",
       "0  Behavioral Risk Factor Surveillance System        Physical Activity   \n",
       "1  Behavioral Risk Factor Surveillance System  Obesity / Weight Status   \n",
       "\n",
       "                          Topic  \\\n",
       "0  Physical Activity - Behavior   \n",
       "1       Obesity / Weight Status   \n",
       "\n",
       "                                            Question  Data_Value_Unit  \\\n",
       "0  Percent of adults who engage in no leisure-tim...              NaN   \n",
       "1  Percent of adults aged 18 years and older who ...              NaN   \n",
       "\n",
       "  Data_Value_Type  ...              GeoLocation  ClassID TopicID QuestionID  \\\n",
       "0           Value  ...                      NaN       PA     PA1       Q047   \n",
       "1           Value  ...  (13.444304, 144.793731)      OWS    OWS1       Q036   \n",
       "\n",
       "   DataValueTypeID  LocationID  StratificationCategory1       Stratification1  \\\n",
       "0            VALUE          59           Race/Ethnicity              Hispanic   \n",
       "1            VALUE          66                Education  High school graduate   \n",
       "\n",
       "  StratificationCategoryId1 StratificationID1  \n",
       "0                      RACE           RACEHIS  \n",
       "1                       EDU         EDUHSGRAD  \n",
       "\n",
       "[2 rows x 33 columns]"
      ]
     },
     "execution_count": 4,
     "metadata": {},
     "output_type": "execute_result"
    }
   ],
   "source": [
    "dat_nutri.head(2)"
   ]
  },
  {
   "cell_type": "code",
   "execution_count": 5,
   "id": "1dbfc949",
   "metadata": {
    "execution": {
     "iopub.execute_input": "2023-02-15T16:47:41.321712Z",
     "iopub.status.busy": "2023-02-15T16:47:41.321326Z",
     "iopub.status.idle": "2023-02-15T16:47:41.442999Z",
     "shell.execute_reply": "2023-02-15T16:47:41.441136Z"
    },
    "papermill": {
     "duration": 0.129652,
     "end_time": "2023-02-15T16:47:41.445724",
     "exception": false,
     "start_time": "2023-02-15T16:47:41.316072",
     "status": "completed"
    },
    "tags": []
   },
   "outputs": [
    {
     "name": "stdout",
     "output_type": "stream",
     "text": [
      "<class 'pandas.core.frame.DataFrame'>\n",
      "RangeIndex: 88629 entries, 0 to 88628\n",
      "Data columns (total 33 columns):\n",
      " #   Column                      Non-Null Count  Dtype  \n",
      "---  ------                      --------------  -----  \n",
      " 0   YearStart                   88629 non-null  int64  \n",
      " 1   YearEnd                     88629 non-null  int64  \n",
      " 2   LocationAbbr                88629 non-null  object \n",
      " 3   LocationDesc                88629 non-null  object \n",
      " 4   Datasource                  88629 non-null  object \n",
      " 5   Class                       88629 non-null  object \n",
      " 6   Topic                       88629 non-null  object \n",
      " 7   Question                    88629 non-null  object \n",
      " 8   Data_Value_Unit             0 non-null      float64\n",
      " 9   Data_Value_Type             88629 non-null  object \n",
      " 10  Data_Value                  79851 non-null  float64\n",
      " 11  Data_Value_Alt              79851 non-null  float64\n",
      " 12  Data_Value_Footnote_Symbol  8778 non-null   object \n",
      " 13  Data_Value_Footnote         8778 non-null   object \n",
      " 14  Low_Confidence_Limit        79851 non-null  float64\n",
      " 15  High_Confidence_Limit       79851 non-null  float64\n",
      " 16  Sample_Size                 79851 non-null  float64\n",
      " 17  Total                       3165 non-null   object \n",
      " 18  Age(years)                  18990 non-null  object \n",
      " 19  Education                   12660 non-null  object \n",
      " 20  Gender                      6330 non-null   object \n",
      " 21  Income                      22155 non-null  object \n",
      " 22  Race/Ethnicity              25320 non-null  object \n",
      " 23  GeoLocation                 86977 non-null  object \n",
      " 24  ClassID                     88629 non-null  object \n",
      " 25  TopicID                     88629 non-null  object \n",
      " 26  QuestionID                  88629 non-null  object \n",
      " 27  DataValueTypeID             88629 non-null  object \n",
      " 28  LocationID                  88629 non-null  int64  \n",
      " 29  StratificationCategory1     88620 non-null  object \n",
      " 30  Stratification1             88620 non-null  object \n",
      " 31  StratificationCategoryId1   88620 non-null  object \n",
      " 32  StratificationID1           88620 non-null  object \n",
      "dtypes: float64(6), int64(3), object(24)\n",
      "memory usage: 22.3+ MB\n"
     ]
    }
   ],
   "source": [
    "dat_nutri.info()"
   ]
  },
  {
   "cell_type": "code",
   "execution_count": 6,
   "id": "8c5b103e",
   "metadata": {
    "execution": {
     "iopub.execute_input": "2023-02-15T16:47:41.455327Z",
     "iopub.status.busy": "2023-02-15T16:47:41.454912Z",
     "iopub.status.idle": "2023-02-15T16:47:41.559942Z",
     "shell.execute_reply": "2023-02-15T16:47:41.558801Z"
    },
    "papermill": {
     "duration": 0.112757,
     "end_time": "2023-02-15T16:47:41.562547",
     "exception": false,
     "start_time": "2023-02-15T16:47:41.449790",
     "status": "completed"
    },
    "tags": []
   },
   "outputs": [
    {
     "data": {
      "text/plain": [
       "YearStart                         0\n",
       "YearEnd                           0\n",
       "LocationAbbr                      0\n",
       "LocationDesc                      0\n",
       "Datasource                        0\n",
       "Class                             0\n",
       "Topic                             0\n",
       "Question                          0\n",
       "Data_Value_Unit               88629\n",
       "Data_Value_Type                   0\n",
       "Data_Value                     8778\n",
       "Data_Value_Alt                 8778\n",
       "Data_Value_Footnote_Symbol    79851\n",
       "Data_Value_Footnote           79851\n",
       "Low_Confidence_Limit           8778\n",
       "High_Confidence_Limit          8778\n",
       "Sample_Size                    8778\n",
       "Total                         85464\n",
       "Age(years)                    69639\n",
       "Education                     75969\n",
       "Gender                        82299\n",
       "Income                        66474\n",
       "Race/Ethnicity                63309\n",
       "GeoLocation                    1652\n",
       "ClassID                           0\n",
       "TopicID                           0\n",
       "QuestionID                        0\n",
       "DataValueTypeID                   0\n",
       "LocationID                        0\n",
       "StratificationCategory1           9\n",
       "Stratification1                   9\n",
       "StratificationCategoryId1         9\n",
       "StratificationID1                 9\n",
       "dtype: int64"
      ]
     },
     "execution_count": 6,
     "metadata": {},
     "output_type": "execute_result"
    }
   ],
   "source": [
    "dat_nutri.isnull().sum()"
   ]
  },
  {
   "cell_type": "code",
   "execution_count": 7,
   "id": "3fd5ab8b",
   "metadata": {
    "execution": {
     "iopub.execute_input": "2023-02-15T16:47:41.573117Z",
     "iopub.status.busy": "2023-02-15T16:47:41.572676Z",
     "iopub.status.idle": "2023-02-15T16:47:41.583125Z",
     "shell.execute_reply": "2023-02-15T16:47:41.581828Z"
    },
    "papermill": {
     "duration": 0.020205,
     "end_time": "2023-02-15T16:47:41.587135",
     "exception": false,
     "start_time": "2023-02-15T16:47:41.566930",
     "status": "completed"
    },
    "tags": []
   },
   "outputs": [
    {
     "data": {
      "text/plain": [
       "0        0\n",
       "1        0\n",
       "2        0\n",
       "3        0\n",
       "4        0\n",
       "        ..\n",
       "88624    0\n",
       "88625    0\n",
       "88626    0\n",
       "88627    0\n",
       "88628    0\n",
       "Length: 88629, dtype: int64"
      ]
     },
     "execution_count": 7,
     "metadata": {},
     "output_type": "execute_result"
    }
   ],
   "source": [
    "dat_nutri[ 'YearStart']-dat_nutri['YearEnd']"
   ]
  },
  {
   "cell_type": "code",
   "execution_count": null,
   "id": "0c94db40",
   "metadata": {
    "papermill": {
     "duration": 0.004321,
     "end_time": "2023-02-15T16:47:41.596606",
     "exception": false,
     "start_time": "2023-02-15T16:47:41.592285",
     "status": "completed"
    },
    "tags": []
   },
   "outputs": [],
   "source": []
  }
 ],
 "metadata": {
  "kernelspec": {
   "display_name": "Python 3",
   "language": "python",
   "name": "python3"
  },
  "language_info": {
   "codemirror_mode": {
    "name": "ipython",
    "version": 3
   },
   "file_extension": ".py",
   "mimetype": "text/x-python",
   "name": "python",
   "nbconvert_exporter": "python",
   "pygments_lexer": "ipython3",
   "version": "3.7.12"
  },
  "papermill": {
   "default_parameters": {},
   "duration": 13.079526,
   "end_time": "2023-02-15T16:47:42.322851",
   "environment_variables": {},
   "exception": null,
   "input_path": "__notebook__.ipynb",
   "output_path": "__notebook__.ipynb",
   "parameters": {},
   "start_time": "2023-02-15T16:47:29.243325",
   "version": "2.3.4"
  }
 },
 "nbformat": 4,
 "nbformat_minor": 5
}
